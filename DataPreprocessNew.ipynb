{
 "cells": [
  {
   "cell_type": "code",
   "execution_count": 41,
   "metadata": {
    "ExecuteTime": {
     "end_time": "2019-01-23T10:04:53.651613Z",
     "start_time": "2019-01-23T10:04:53.644487Z"
    }
   },
   "outputs": [],
   "source": [
    "import pandas as pd\n",
    "import numpy as np\n",
    "import matplotlib.pyplot as plt\n",
    "import seaborn as sns\n",
    "import nltk\n",
    "import re\n",
    "import warnings\n",
    "warnings.filterwarnings(\"ignore\")\n",
    "%matplotlib inline"
   ]
  },
  {
   "cell_type": "code",
   "execution_count": 42,
   "metadata": {
    "ExecuteTime": {
     "end_time": "2019-01-23T10:04:54.240208Z",
     "start_time": "2019-01-23T10:04:53.870489Z"
    },
    "scrolled": true
   },
   "outputs": [
    {
     "name": "stdout",
     "output_type": "stream",
     "text": [
      "<class 'pandas.core.frame.DataFrame'>\n",
      "RangeIndex: 443 entries, 0 to 442\n",
      "Data columns (total 2 columns):\n",
      "Text       443 non-null object\n",
      "FaxType    443 non-null object\n",
      "dtypes: object(2)\n",
      "memory usage: 7.0+ KB\n",
      "None\n"
     ]
    }
   ],
   "source": [
    "data = pd.read_excel(\"TextLabelDataframe.xlsx\")\n",
    "data = data.dropna()\n",
    "data = data.reset_index(drop= True)\n",
    "print(data.info())"
   ]
  },
  {
   "cell_type": "code",
   "execution_count": 43,
   "metadata": {
    "ExecuteTime": {
     "end_time": "2019-01-23T10:04:54.250086Z",
     "start_time": "2019-01-23T10:04:54.242963Z"
    }
   },
   "outputs": [],
   "source": [
    "from nltk.stem import PorterStemmer\n",
    "from nltk.tokenize import sent_tokenize, word_tokenize\n",
    "from nltk.corpus import words\n",
    "porter = PorterStemmer()"
   ]
  },
  {
   "cell_type": "code",
   "execution_count": 44,
   "metadata": {
    "ExecuteTime": {
     "end_time": "2019-01-23T10:04:54.558583Z",
     "start_time": "2019-01-23T10:04:54.254633Z"
    }
   },
   "outputs": [
    {
     "name": "stdout",
     "output_type": "stream",
     "text": [
      "['0', '1', ' ', '2', '9', '4', '3', '6', '’', '8', '5', '@', '7', '®', '|', '$', '%', '‘', '&', '—', '“', '°', '\\\\', '£', '}', '=', '«', '»', '\"', \"'\", '<', '[', '+', '#', '™', ']', '*', '~', '©', '§', 'é', '{', '”', '¢', '€', '¥']\n"
     ]
    }
   ],
   "source": [
    "temp = []\n",
    "for i in range(data.shape[0]):\n",
    "    temp.append(data['Text'][i])\n",
    "temp = \"\".join(temp)\n",
    "\n",
    "from collections import Counter\n",
    "alphabets = \"abcdefghijklmnopqrstuvwxyz\"\n",
    "alphabets = list(alphabets)\n",
    "tempd = dict(Counter(temp))\n",
    "keys = list(tempd.keys())\n",
    "to_remove = []\n",
    "for i in range(len(keys)):\n",
    "    if keys[i] not in alphabets:\n",
    "        to_remove.append(keys[i])\n",
    "print(to_remove)"
   ]
  },
  {
   "cell_type": "code",
   "execution_count": 45,
   "metadata": {
    "ExecuteTime": {
     "end_time": "2019-01-23T10:04:54.717065Z",
     "start_time": "2019-01-23T10:04:54.563042Z"
    }
   },
   "outputs": [
    {
     "name": "stdout",
     "output_type": "stream",
     "text": [
      "['0', '1', '2', '9', '4', '3', '6', '’', '8', '5', '@', '7', '®', '|', '$', '%', '‘', '&', '—', '“', '°', '\\\\', '£', '}', '=', '«', '»', '\"', \"'\", '<', '[', '+', '#', '™', ']', '*', '~', '©', '§', 'é', '{', '”', '¢', '€', '¥']\n"
     ]
    }
   ],
   "source": [
    "to_remove.remove(' ')\n",
    "print(to_remove)"
   ]
  },
  {
   "cell_type": "code",
   "execution_count": 46,
   "metadata": {
    "ExecuteTime": {
     "end_time": "2019-01-23T10:04:54.934028Z",
     "start_time": "2019-01-23T10:04:54.722299Z"
    }
   },
   "outputs": [],
   "source": [
    "Text = []\n",
    "for i in range(data.shape[0]):\n",
    "    text = data['Text'][i]\n",
    "    for item in to_remove:\n",
    "        text = text.replace(item, '')\n",
    "    Text.append(text)"
   ]
  },
  {
   "cell_type": "code",
   "execution_count": 47,
   "metadata": {
    "ExecuteTime": {
     "end_time": "2019-01-23T10:04:59.633749Z",
     "start_time": "2019-01-23T10:04:54.936212Z"
    }
   },
   "outputs": [],
   "source": [
    "en = []\n",
    "words = set(words.words())\n",
    "for i in range(len(Text)):\n",
    "    s = \" \".join(w for w in nltk.wordpunct_tokenize(Text[i]) if w.lower() in words or not w.isalpha())\n",
    "    en.append(s)\n",
    "    \n",
    "def stemSentence(sentence):\n",
    "    token_words=word_tokenize(sentence)\n",
    "    stem_sentence=[]\n",
    "    for word in token_words:\n",
    "        stem_sentence.append(porter.stem(word))\n",
    "        stem_sentence.append(\" \")\n",
    "    return \"\".join(stem_sentence)\n",
    "\n",
    "stemmed = []\n",
    "for i in range(len(en)):\n",
    "    x = stemSentence(en[i])\n",
    "    stemmed.append(x)"
   ]
  },
  {
   "cell_type": "code",
   "execution_count": 48,
   "metadata": {
    "ExecuteTime": {
     "end_time": "2019-01-23T10:04:59.647693Z",
     "start_time": "2019-01-23T10:04:59.639372Z"
    }
   },
   "outputs": [],
   "source": [
    "data['ProcessedText'] = stemmed"
   ]
  },
  {
   "cell_type": "code",
   "execution_count": 49,
   "metadata": {
    "ExecuteTime": {
     "end_time": "2019-01-23T10:04:59.880265Z",
     "start_time": "2019-01-23T10:04:59.651623Z"
    }
   },
   "outputs": [
    {
     "name": "stdout",
     "output_type": "stream",
     "text": [
      "                                                Text FaxType  \\\n",
      "0  01 11 2019 4 39 12 pm 0600 cvs caremark page 1...     Fly   \n",
      "1  ne ity rar ri anna cn nna afl nn yn 4 fy janua...     Fly   \n",
      "2  | ® | ann hn ba | | vagus aar january 11 2019 ...     Fly   \n",
      "3  prime rf 10 6 1 11 2019 3 57 12 pm page 1 001 ...     Fly   \n",
      "4  5125333179 11 26 21 01 11 2019 1 1 tas png jan...    Thmp   \n",
      "\n",
      "                                       ProcessedText  \n",
      "0  page pharmaci updat updat c hang layout networ...  \n",
      "1  ne anna yn new plan inform black river memori ...  \n",
      "2  ann ba vagu portal enhanc excit announc new en...  \n",
      "3  prime page server f prime therapeut fraud tip ...  \n",
      "4  e j pharmaci seal ni drug order form lile x co...  \n"
     ]
    }
   ],
   "source": [
    "print(data.head())"
   ]
  },
  {
   "cell_type": "code",
   "execution_count": 50,
   "metadata": {
    "ExecuteTime": {
     "end_time": "2019-01-23T10:05:00.257378Z",
     "start_time": "2019-01-23T10:04:59.884443Z"
    }
   },
   "outputs": [
    {
     "data": {
      "text/plain": [
       "(443, 5927)"
      ]
     },
     "execution_count": 50,
     "metadata": {},
     "output_type": "execute_result"
    }
   ],
   "source": [
    "from sklearn.feature_extraction.text import CountVectorizer\n",
    "text_vectorizer = CountVectorizer()\n",
    "text_features = text_vectorizer.fit_transform(data['ProcessedText'])\n",
    "text_features.get_shape()"
   ]
  },
  {
   "cell_type": "code",
   "execution_count": 51,
   "metadata": {
    "ExecuteTime": {
     "end_time": "2019-01-23T10:05:00.419344Z",
     "start_time": "2019-01-23T10:05:00.259663Z"
    }
   },
   "outputs": [
    {
     "name": "stdout",
     "output_type": "stream",
     "text": [
      "Shape of Sparse Matrix:  (443, 5927)\n",
      "Amount of Non-Zero occurences:  67818\n"
     ]
    }
   ],
   "source": [
    "from sklearn.feature_extraction.text import TfidfVectorizer\n",
    "\n",
    "tfidf_vectorizer = TfidfVectorizer(min_df = 0)\n",
    "tfidf_features = tfidf_vectorizer.fit_transform(data['ProcessedText'])\n",
    "print('Shape of Sparse Matrix: ', tfidf_features.shape)\n",
    "print('Amount of Non-Zero occurences: ', tfidf_features.nnz)"
   ]
  },
  {
   "cell_type": "code",
   "execution_count": 52,
   "metadata": {
    "ExecuteTime": {
     "end_time": "2019-01-23T10:05:00.505342Z",
     "start_time": "2019-01-23T10:05:00.421932Z"
    }
   },
   "outputs": [],
   "source": [
    "from sklearn.model_selection import train_test_split\n",
    "X_train,X_test,y_train,y_test = train_test_split(tfidf_features, data['FaxType'],\n",
    "                                                 test_size = 0.25, random_state= 0)"
   ]
  },
  {
   "cell_type": "code",
   "execution_count": 53,
   "metadata": {
    "ExecuteTime": {
     "end_time": "2019-01-23T10:05:00.686355Z",
     "start_time": "2019-01-23T10:05:00.507758Z"
    }
   },
   "outputs": [],
   "source": [
    "from sklearn.metrics import confusion_matrix, accuracy_score, roc_auc_score, classification_report"
   ]
  },
  {
   "cell_type": "code",
   "execution_count": 54,
   "metadata": {
    "ExecuteTime": {
     "end_time": "2019-01-23T10:05:02.233892Z",
     "start_time": "2019-01-23T10:05:00.690196Z"
    }
   },
   "outputs": [
    {
     "name": "stdout",
     "output_type": "stream",
     "text": [
      "0.6306306306306306\n"
     ]
    }
   ],
   "source": [
    "from sklearn.ensemble import RandomForestClassifier\n",
    "model = RandomForestClassifier(n_estimators= 175)\n",
    "model.fit(X_train, y_train)\n",
    "pred = model.predict(X_test)\n",
    "print(accuracy_score(y_test, pred))"
   ]
  },
  {
   "cell_type": "code",
   "execution_count": 55,
   "metadata": {
    "ExecuteTime": {
     "end_time": "2019-01-23T10:05:02.270571Z",
     "start_time": "2019-01-23T10:05:02.238026Z"
    }
   },
   "outputs": [
    {
     "name": "stdout",
     "output_type": "stream",
     "text": [
      "              precision    recall  f1-score   support\n",
      "\n",
      "         Fly       1.00      1.00      1.00         1\n",
      "   Injection       1.00      0.33      0.50         3\n",
      "          IV       1.00      0.80      0.89         5\n",
      "        Oral       1.00      0.40      0.57         5\n",
      "     Horizon       1.00      1.00      1.00         2\n",
      "     General       1.00      1.00      1.00         1\n",
      "         DME       1.00      0.50      0.67         2\n",
      "       Order       0.95      0.87      0.91        23\n",
      "         DVR       0.68      0.88      0.77        17\n",
      "       Audit       0.50      0.25      0.33         4\n",
      " Phy Billing       1.00      0.60      0.75        10\n",
      "        Auth       0.00      0.00      0.00         9\n",
      "         Inv       0.21      0.67      0.32         6\n",
      "    HCARES18       1.00      1.00      1.00         2\n",
      "      Refill       0.44      0.58      0.50        12\n",
      "         EOB       0.25      0.40      0.31         5\n",
      "        Thmp       0.00      0.00      0.00         1\n",
      "        Demo       0.00      0.00      0.00         2\n",
      "         Ans       1.00      1.00      1.00         1\n",
      "\n",
      "   micro avg       0.63      0.63      0.63       111\n",
      "   macro avg       0.69      0.59      0.61       111\n",
      "weighted avg       0.68      0.63      0.63       111\n",
      "\n"
     ]
    }
   ],
   "source": [
    "print(classification_report(y_test, pred, target_names= y_test.unique()))"
   ]
  },
  {
   "cell_type": "code",
   "execution_count": 56,
   "metadata": {
    "ExecuteTime": {
     "end_time": "2019-01-23T10:05:02.404940Z",
     "start_time": "2019-01-23T10:05:02.272656Z"
    }
   },
   "outputs": [
    {
     "name": "stdout",
     "output_type": "stream",
     "text": [
      "['Fly', 'Injection', 'IV', 'Oral', 'Horizon', 'General', 'DME', 'Order', 'DVR', 'Audit', 'Phy Billing', 'Auth', 'Inv', 'HCARES18', 'Refill', 'EOB', 'Thmp', 'Demo', 'Ans']\n"
     ]
    }
   ],
   "source": [
    "test_labels = list(y_test.unique())\n",
    "print(test_labels)"
   ]
  },
  {
   "cell_type": "code",
   "execution_count": 57,
   "metadata": {
    "ExecuteTime": {
     "end_time": "2019-01-23T10:05:02.714888Z",
     "start_time": "2019-01-23T10:05:02.408656Z"
    }
   },
   "outputs": [
    {
     "name": "stdout",
     "output_type": "stream",
     "text": [
      "[[20  1  0  1  0  1  0  0  0  0  0  0  0  0  0  0  0  0  0]\n",
      " [ 0  4  0  1  0  1  0  0  0  0  0  0  0  0  0  0  0  0  0]\n",
      " [ 0  2  0  0  0  1  0  6  0  0  0  0  0  0  0  0  0  0  0]\n",
      " [ 0  3  0  7  0  1  0  0  0  0  0  0  0  1  0  0  0  0  0]\n",
      " [ 0  0  0  4  6  0  0  0  0  0  0  0  0  0  0  0  0  0  0]\n",
      " [ 0  1  0  1  0 15  0  0  0  0  0  0  0  0  0  0  0  0  0]\n",
      " [ 0  3  0  0  0  0  2  0  0  0  0  0  0  0  0  0  0  0  0]\n",
      " [ 0  1  2  0  0  0  0  2  0  0  0  0  0  0  0  0  0  0  0]\n",
      " [ 0  0  0  0  0  0  0  0  2  0  0  0  0  0  0  0  0  0  0]\n",
      " [ 0  1  0  0  0  1  0  0  0  1  0  0  0  0  0  0  0  0  0]\n",
      " [ 0  0  0  0  0  1  0  0  0  0  0  0  0  0  0  0  0  0  0]\n",
      " [ 1  0  0  0  0  0  0  0  0  0  0  4  0  0  0  0  0  0  0]\n",
      " [ 0  0  0  0  0  0  0  0  0  0  0  0  2  0  0  0  0  0  0]\n",
      " [ 0  3  0  0  0  0  0  0  0  0  0  0  0  1  0  0  0  0  0]\n",
      " [ 0  0  0  2  0  0  0  0  0  0  0  0  0  0  0  0  0  0  0]\n",
      " [ 0  0  0  0  0  1  0  0  0  0  0  0  0  0  0  1  0  0  0]\n",
      " [ 0  0  0  0  0  0  0  0  0  0  0  0  0  0  0  0  1  0  0]\n",
      " [ 0  0  0  0  0  0  0  0  0  0  0  0  0  0  0  0  0  1  0]\n",
      " [ 0  0  0  0  0  0  0  0  0  0  0  0  0  0  0  0  0  0  1]]\n",
      "<class 'numpy.ndarray'>\n"
     ]
    }
   ],
   "source": [
    "print(confusion_matrix(y_test, pred, labels= y_test.unique()))\n",
    "cm = confusion_matrix(y_test, pred, labels= y_test.unique())\n",
    "print(type(cm))"
   ]
  },
  {
   "cell_type": "code",
   "execution_count": 58,
   "metadata": {
    "ExecuteTime": {
     "end_time": "2019-01-23T10:05:05.459874Z",
     "start_time": "2019-01-23T10:05:05.453221Z"
    }
   },
   "outputs": [
    {
     "name": "stdout",
     "output_type": "stream",
     "text": [
      "[[20  0]\n",
      " [ 0  0]]\n"
     ]
    }
   ],
   "source": [
    "print(confusion_matrix(y_test, pred, labels= ['Fly', 'IV']))"
   ]
  },
  {
   "cell_type": "code",
   "execution_count": 59,
   "metadata": {
    "ExecuteTime": {
     "end_time": "2019-01-23T10:05:05.803801Z",
     "start_time": "2019-01-23T10:05:05.793567Z"
    }
   },
   "outputs": [
    {
     "name": "stdout",
     "output_type": "stream",
     "text": [
      "[0.13043478260869565, 0.3333333333333333, 1.0, 0.4166666666666667, 0.4, 0.11764705882352941, 0.6, 0.6, 0.0, 0.6666666666666666, 1.0, 0.2, 0.0, 0.75, 1.0, 0.5, 0.0, 0.0, 0.0]\n"
     ]
    }
   ],
   "source": [
    "error = []\n",
    "for i in range(cm.shape[0]):\n",
    "    p = 0\n",
    "    for j in range(cm.shape[1]):\n",
    "        p += cm[i][j]\n",
    "    e = float((p-cm[i][i])/p)\n",
    "    error.append(e)\n",
    "print(error)"
   ]
  },
  {
   "cell_type": "code",
   "execution_count": 60,
   "metadata": {
    "ExecuteTime": {
     "end_time": "2019-01-23T10:05:06.545269Z",
     "start_time": "2019-01-23T10:05:06.537889Z"
    }
   },
   "outputs": [
    {
     "name": "stdout",
     "output_type": "stream",
     "text": [
      "The classification error when accuracy is between 63-65%\n",
      "\n",
      "For Fly the error is 0.13043478260869565\n",
      "\n",
      "For Injection the error is 0.3333333333333333\n",
      "\n",
      "For IV the error is 1.0\n",
      "\n",
      "For Oral the error is 0.4166666666666667\n",
      "\n",
      "For Horizon the error is 0.4\n",
      "\n",
      "For General the error is 0.11764705882352941\n",
      "\n",
      "For DME the error is 0.6\n",
      "\n",
      "For Order the error is 0.6\n",
      "\n",
      "For DVR the error is 0.0\n",
      "\n",
      "For Audit the error is 0.6666666666666666\n",
      "\n",
      "For Phy Billing the error is 1.0\n",
      "\n",
      "For Auth the error is 0.2\n",
      "\n",
      "For Inv the error is 0.0\n",
      "\n",
      "For HCARES18 the error is 0.75\n",
      "\n",
      "For Refill the error is 1.0\n",
      "\n",
      "For EOB the error is 0.5\n",
      "\n",
      "For Thmp the error is 0.0\n",
      "\n",
      "For Demo the error is 0.0\n",
      "\n",
      "For Ans the error is 0.0\n",
      "\n"
     ]
    }
   ],
   "source": [
    "print(\"The classification error when accuracy is between 63-65%\")\n",
    "print()\n",
    "for i in range(len(test_labels)):\n",
    "    print('For {} the error is {}'.format(test_labels[i], error[i]))\n",
    "    print()"
   ]
  },
  {
   "cell_type": "code",
   "execution_count": 21,
   "metadata": {
    "ExecuteTime": {
     "end_time": "2019-01-23T06:45:03.550215Z",
     "start_time": "2019-01-23T06:45:03.248100Z"
    }
   },
   "outputs": [],
   "source": [
    "import dill"
   ]
  },
  {
   "cell_type": "code",
   "execution_count": 61,
   "metadata": {
    "ExecuteTime": {
     "end_time": "2019-01-23T10:05:23.526583Z",
     "start_time": "2019-01-23T10:05:23.491700Z"
    }
   },
   "outputs": [
    {
     "data": {
      "text/html": [
       "<div>\n",
       "<style scoped>\n",
       "    .dataframe tbody tr th:only-of-type {\n",
       "        vertical-align: middle;\n",
       "    }\n",
       "\n",
       "    .dataframe tbody tr th {\n",
       "        vertical-align: top;\n",
       "    }\n",
       "\n",
       "    .dataframe thead th {\n",
       "        text-align: right;\n",
       "    }\n",
       "</style>\n",
       "<table border=\"1\" class=\"dataframe\">\n",
       "  <thead>\n",
       "    <tr style=\"text-align: right;\">\n",
       "      <th></th>\n",
       "      <th>Text</th>\n",
       "      <th>FaxType</th>\n",
       "      <th>ProcessedText</th>\n",
       "    </tr>\n",
       "  </thead>\n",
       "  <tbody>\n",
       "    <tr>\n",
       "      <th>215</th>\n",
       "      <td>1 11 2019 12 30 pm baylor +18558227838 p 1 sen...</td>\n",
       "      <td>Injection</td>\n",
       "      <td>p sent facsimil number phone date compani coll...</td>\n",
       "    </tr>\n",
       "    <tr>\n",
       "      <th>216</th>\n",
       "      <td>1 10 2019 6 54 pm fax server +17136614828 p 1 ...</td>\n",
       "      <td>Injection</td>\n",
       "      <td>server p sent compani phone phone e mail date ...</td>\n",
       "    </tr>\n",
       "    <tr>\n",
       "      <th>217</th>\n",
       "      <td>1 11 2019 12 47 pm fax server +17136614828 p 4...</td>\n",
       "      <td>Injection</td>\n",
       "      <td>server p sent new e script prescript by l pati...</td>\n",
       "    </tr>\n",
       "    <tr>\n",
       "      <th>218</th>\n",
       "      <td>jan 11 2019 03 34 pm 17136614828 page 1 1 sout...</td>\n",
       "      <td>Injection</td>\n",
       "      <td>page pharmaci fe fe h h sh oe ae us oe us lue ...</td>\n",
       "    </tr>\n",
       "    <tr>\n",
       "      <th>219</th>\n",
       "      <td>#570 p 001 001 med spec clin southside kim 01 ...</td>\n",
       "      <td>Injection</td>\n",
       "      <td>p spec kim sate f address harborsid p p box am...</td>\n",
       "    </tr>\n",
       "    <tr>\n",
       "      <th>220</th>\n",
       "      <td>1 11 2019 5 19 pm fax server +17136614828 p 1 ...</td>\n",
       "      <td>Injection</td>\n",
       "      <td>server p sent infus compani phone phone e mail...</td>\n",
       "    </tr>\n",
       "    <tr>\n",
       "      <th>221</th>\n",
       "      <td>dermatology dermatologkc surgery &amp; dermatopath...</td>\n",
       "      <td>Injection</td>\n",
       "      <td>dermatolog surgeri dermatopatholog f caban spe...</td>\n",
       "    </tr>\n",
       "    <tr>\n",
       "      <th>222</th>\n",
       "      <td>1 11 2019 10 53 fax server fax southside organ...</td>\n",
       "      <td>Injection</td>\n",
       "      <td>server organ number phone number number p sent...</td>\n",
       "    </tr>\n",
       "    <tr>\n",
       "      <th>223</th>\n",
       "      <td>jan 11 2019 02 45 pm 17136614828 page 1 1 sout...</td>\n",
       "      <td>Injection</td>\n",
       "      <td>page pharmaci fe fe h h sh oe ae us oe us lue ...</td>\n",
       "    </tr>\n",
       "    <tr>\n",
       "      <th>224</th>\n",
       "      <td>jan 11 2019 02 46 pm 17136614828 page 1 1 sout...</td>\n",
       "      <td>Injection</td>\n",
       "      <td>page pharmaci fe fe h h sh oe ae us oe us lue ...</td>\n",
       "    </tr>\n",
       "    <tr>\n",
       "      <th>225</th>\n",
       "      <td>unc | ov — 14 address ly {| 55 pen necdles ust...</td>\n",
       "      <td>Injection</td>\n",
       "      <td>address ly pen ust box practition na barth tee...</td>\n",
       "    </tr>\n",
       "    <tr>\n",
       "      <th>226</th>\n",
       "      <td>athena 1 11 2019 8 09 20 pm page 1 002 confide...</td>\n",
       "      <td>Injection</td>\n",
       "      <td>page confidenti walnut hill phone specialti ph...</td>\n",
       "    </tr>\n",
       "    <tr>\n",
       "      <th>227</th>\n",
       "      <td>jan 11 2019 03 04 pm 17136614828 page 1 1 sout...</td>\n",
       "      <td>Injection</td>\n",
       "      <td>page pharmaci fe fe h h sh oe ae us oe us lue ...</td>\n",
       "    </tr>\n",
       "    <tr>\n",
       "      <th>228</th>\n",
       "      <td>jam 11i 2b19 12 46 lessee pes page 1d erdocrin...</td>\n",
       "      <td>Injection</td>\n",
       "      <td>jam i b lesse pe page d referr form ae darr g ...</td>\n",
       "    </tr>\n",
       "    <tr>\n",
       "      <th>229</th>\n",
       "      <td>jan 11 1901 09p gene devora md phd 9729813605 ...</td>\n",
       "      <td>Injection</td>\n",
       "      <td>p gene p allerg specialti form poe sere era mu...</td>\n",
       "    </tr>\n",
       "    <tr>\n",
       "      <th>230</th>\n",
       "      <td>1 11 2019 2 17 pm amr b arbs ees ene parr ry a...</td>\n",
       "      <td>Injection</td>\n",
       "      <td>b parr aw ra er server paar om x fa vee es naw...</td>\n",
       "    </tr>\n",
       "    <tr>\n",
       "      <th>231</th>\n",
       "      <td>f x s$ h e e date subject fax number company n...</td>\n",
       "      <td>Injection</td>\n",
       "      <td>f x s h e e date subject number compani name c...</td>\n",
       "    </tr>\n",
       "    <tr>\n",
       "      <th>232</th>\n",
       "      <td>al 11 2819 84 34pm 28135517711 ankh van mauyge...</td>\n",
       "      <td>Injection</td>\n",
       "      <td>al ankh van serv r pharmaci need test clinic p...</td>\n",
       "    </tr>\n",
       "    <tr>\n",
       "      <th>233</th>\n",
       "      <td>‘blf11 2619 11 12am 2813517711 anh van nguyen ...</td>\n",
       "      <td>Injection</td>\n",
       "      <td>am van page last name first name start date q ...</td>\n",
       "    </tr>\n",
       "    <tr>\n",
       "      <th>234</th>\n",
       "      <td>jan 11 2019 03 06 pm 17136614828 page 1 1 sout...</td>\n",
       "      <td>Injection</td>\n",
       "      <td>page pharmaci fe fe h h sh oe ae us oe us lue ...</td>\n",
       "    </tr>\n",
       "    <tr>\n",
       "      <th>235</th>\n",
       "      <td>jan 11 2079 11 56am \\ ae adele 6407 =p 1 2 «&lt; ...</td>\n",
       "      <td>Injection</td>\n",
       "      <td>am ae p dimethyl fumar phone pee restat react ...</td>\n",
       "    </tr>\n",
       "    <tr>\n",
       "      <th>236</th>\n",
       "      <td>jan 11 2019 11 26am endocrine center gh 832218...</td>\n",
       "      <td>Injection</td>\n",
       "      <td>am endocrin center page specialti pharmaci int...</td>\n",
       "    </tr>\n",
       "    <tr>\n",
       "      <th>237</th>\n",
       "      <td>jan 11 2019 02 44 pm 17136614828 page 1 1 sout...</td>\n",
       "      <td>Injection</td>\n",
       "      <td>page pharmaci fe fe h h sh oe ae us oe us lue ...</td>\n",
       "    </tr>\n",
       "    <tr>\n",
       "      <th>238</th>\n",
       "      <td>jan 11 2019 02 44 pm 17136614828 page 1 1 sout...</td>\n",
       "      <td>Injection</td>\n",
       "      <td>page pharmaci fi new e script prescript ad p s...</td>\n",
       "    </tr>\n",
       "    <tr>\n",
       "      <th>239</th>\n",
       "      <td>1172019 11 14 fas p o01 001 new e script presc...</td>\n",
       "      <td>Injection</td>\n",
       "      <td>p o new e script prescript abbasi suit ca pati...</td>\n",
       "    </tr>\n",
       "    <tr>\n",
       "      <th>240</th>\n",
       "      <td>01 11 2019 06 49pm 214491377 dscst page o1 12 ...</td>\n",
       "      <td>Injection</td>\n",
       "      <td>page o receiv am server ean se specialti pharm...</td>\n",
       "    </tr>\n",
       "    <tr>\n",
       "      <th>241</th>\n",
       "      <td>dermatology dermatologkc surgery &amp; dermatopath...</td>\n",
       "      <td>Injection</td>\n",
       "      <td>dermatolog surgeri dermatopatholog specialti p...</td>\n",
       "    </tr>\n",
       "    <tr>\n",
       "      <th>242</th>\n",
       "      <td>jan 11 2019 03 27 pm 17136614828 page 1 1 sout...</td>\n",
       "      <td>Injection</td>\n",
       "      <td>page pharmaci fe fe h h sh oe ae us oe us lue ...</td>\n",
       "    </tr>\n",
       "    <tr>\n",
       "      <th>243</th>\n",
       "      <td>jam 11 2019 2 74pm 3979 plt oe joseph c gathe ...</td>\n",
       "      <td>Injection</td>\n",
       "      <td>jam oe c phone lo es ree eer cee reel esker er...</td>\n",
       "    </tr>\n",
       "    <tr>\n",
       "      <th>244</th>\n",
       "      <td>ov11f2019 =15 26 fax p oo1f005 wd bf 1 ei pru ...</td>\n",
       "      <td>Injection</td>\n",
       "      <td>p obe fe specialti pharmaci need steven attent...</td>\n",
       "    </tr>\n",
       "    <tr>\n",
       "      <th>245</th>\n",
       "      <td>pharmacy address 1127 bryn mawr ave ste redlan...</td>\n",
       "      <td>Injection</td>\n",
       "      <td>pharmaci address ave ca complet form pleas com...</td>\n",
       "    </tr>\n",
       "    <tr>\n",
       "      <th>246</th>\n",
       "      <td>jan 11 2019 03 05 pm 17136614828 page 1 1 sout...</td>\n",
       "      <td>Injection</td>\n",
       "      <td>page pharmaci fe fe h h sh oe ae us oe us lue ...</td>\n",
       "    </tr>\n",
       "    <tr>\n",
       "      <th>247</th>\n",
       "      <td>h1 11 2819 17 87 osvb%2 f115 dymamic arthritis...</td>\n",
       "      <td>Injection</td>\n",
       "      <td>h f arthriti page yan page pharmaci secret oe ...</td>\n",
       "    </tr>\n",
       "    <tr>\n",
       "      <th>248</th>\n",
       "      <td>09 07 2018 lab report hepatitis panel acute w ...</td>\n",
       "      <td>Injection</td>\n",
       "      <td>lab report hepat panel acut w reflex comprehen...</td>\n",
       "    </tr>\n",
       "    <tr>\n",
       "      <th>249</th>\n",
       "      <td>fondren orthopedic group llp main january 10 2...</td>\n",
       "      <td>Injection</td>\n",
       "      <td>orthoped group main main page offic visit lora...</td>\n",
       "    </tr>\n",
       "    <tr>\n",
       "      <th>250</th>\n",
       "      <td>1 11 2019 8 41 fax server +17136614828 p 1 sen...</td>\n",
       "      <td>Injection</td>\n",
       "      <td>server p sent specialti pharmaci one sourc med...</td>\n",
       "    </tr>\n",
       "    <tr>\n",
       "      <th>251</th>\n",
       "      <td>fax server p3246 1 11 2019 12 37 17 pm page 1 ...</td>\n",
       "      <td>Injection</td>\n",
       "      <td>server p page server oper oak hill p ga am p d...</td>\n",
       "    </tr>\n",
       "    <tr>\n",
       "      <th>252</th>\n",
       "      <td>fax important notice january 11 2019 southside...</td>\n",
       "      <td>Injection</td>\n",
       "      <td>import notic specialti pharmaci intend use per...</td>\n",
       "    </tr>\n",
       "    <tr>\n",
       "      <th>253</th>\n",
       "      <td>1 11 2019 1 33 pm fax southeast houston infect...</td>\n",
       "      <td>Injection</td>\n",
       "      <td>southeast infecti diseas page o o f x s h e e ...</td>\n",
       "    </tr>\n",
       "    <tr>\n",
       "      <th>254</th>\n",
       "      <td>o1 11 19 03 75pm d0r nursing station 713474861...</td>\n",
       "      <td>Injection</td>\n",
       "      <td>o nurs station f aa lad r ae oe se pharmaci st...</td>\n",
       "    </tr>\n",
       "    <tr>\n",
       "      <th>255</th>\n",
       "      <td>jan 11 2019 02 47 pm 17136614828 page 1 1 sout...</td>\n",
       "      <td>Injection</td>\n",
       "      <td>page pharmaci fe fe h h sh oe ae us oe us lue ...</td>\n",
       "    </tr>\n",
       "    <tr>\n",
       "      <th>256</th>\n",
       "      <td>1 11 2019 12 47 pm fax server +17136614828 p 3...</td>\n",
       "      <td>Injection</td>\n",
       "      <td>server p sent new e script prescript p stein e...</td>\n",
       "    </tr>\n",
       "    <tr>\n",
       "      <th>257</th>\n",
       "      <td>1 11 2019 8 41 fax server +17136614828 p 3 sen...</td>\n",
       "      <td>Injection</td>\n",
       "      <td>server p sent new e script prescript holli j b...</td>\n",
       "    </tr>\n",
       "    <tr>\n",
       "      <th>258</th>\n",
       "      <td>“&lt;8 dermatology fax important notice january 1...</td>\n",
       "      <td>Injection</td>\n",
       "      <td>dermatolog import notic specialti pharmaci int...</td>\n",
       "    </tr>\n",
       "    <tr>\n",
       "      <th>259</th>\n",
       "      <td>2019 01 10 21 16 8325485036 8325485036 » hside...</td>\n",
       "      <td>Injection</td>\n",
       "      <td>master p adult medicin male street smith old f...</td>\n",
       "    </tr>\n",
       "    <tr>\n",
       "      <th>260</th>\n",
       "      <td>f x s$ h e e date jan 11 2019 11 26 51 southsi...</td>\n",
       "      <td>Injection</td>\n",
       "      <td>f x s h e e date pharmaci subject approv numbe...</td>\n",
       "    </tr>\n",
       "    <tr>\n",
       "      <th>261</th>\n",
       "      <td>merase jan 11 2019 12 00pm ae ely [ hifaa auth...</td>\n",
       "      <td>Injection</td>\n",
       "      <td>ae author share health inform read understand ...</td>\n",
       "    </tr>\n",
       "    <tr>\n",
       "      <th>262</th>\n",
       "      <td>jan 11 2019 02 45 pm 17136614828 page 1 1 sout...</td>\n",
       "      <td>Injection</td>\n",
       "      <td>page pharmaci fe fe h h sh oe ae us oe us lue ...</td>\n",
       "    </tr>\n",
       "    <tr>\n",
       "      <th>263</th>\n",
       "      <td>01 11 2019 4 05 58 pm 0o500 faxcom fax iassist...</td>\n",
       "      <td>Injection</td>\n",
       "      <td>o compani voic date subject server secur docum...</td>\n",
       "    </tr>\n",
       "    <tr>\n",
       "      <th>337</th>\n",
       "      <td>please cancel faxed prescription order referen...</td>\n",
       "      <td>Injection</td>\n",
       "      <td>pleas cancel prescript order refer facil cresc...</td>\n",
       "    </tr>\n",
       "    <tr>\n",
       "      <th>338</th>\n",
       "      <td>hours pharmacy 1 800 951 0866 sat jan 12 03 33...</td>\n",
       "      <td>Injection</td>\n",
       "      <td>pharmaci sat page ref prescript order date tim...</td>\n",
       "    </tr>\n",
       "    <tr>\n",
       "      <th>414</th>\n",
       "      <td>med spec clin southside fi11 2019 17 53 s70 p ...</td>\n",
       "      <td>Injection</td>\n",
       "      <td>spec fi s p sate f address harborsid p p box a...</td>\n",
       "    </tr>\n",
       "    <tr>\n",
       "      <th>427</th>\n",
       "      <td>01 11 2019 06 45 7133451228 southside pharmacy...</td>\n",
       "      <td>Injection</td>\n",
       "      <td>pharmaci page dermatolog ca start date last na...</td>\n",
       "    </tr>\n",
       "    <tr>\n",
       "      <th>428</th>\n",
       "      <td>1 11 2019 12 13 pm fax magnolia family medicin...</td>\n",
       "      <td>Injection</td>\n",
       "      <td>magnolia famili medicin page o f x h e e date ...</td>\n",
       "    </tr>\n",
       "    <tr>\n",
       "      <th>429</th>\n",
       "      <td>01 54 41 p 01 11 2019 1 11 281 444 3417 co hep...</td>\n",
       "      <td>Injection</td>\n",
       "      <td>p hepatolog enrol form ey x f e z z h a baa sh...</td>\n",
       "    </tr>\n",
       "    <tr>\n",
       "      <th>430</th>\n",
       "      <td>rmatology 20311 kuykendahl rd suite j phone 83...</td>\n",
       "      <td>Injection</td>\n",
       "      <td>suit j phone j urgent review pleas comment c p...</td>\n",
       "    </tr>\n",
       "  </tbody>\n",
       "</table>\n",
       "</div>"
      ],
      "text/plain": [
       "                                                  Text    FaxType  \\\n",
       "215  1 11 2019 12 30 pm baylor +18558227838 p 1 sen...  Injection   \n",
       "216  1 10 2019 6 54 pm fax server +17136614828 p 1 ...  Injection   \n",
       "217  1 11 2019 12 47 pm fax server +17136614828 p 4...  Injection   \n",
       "218  jan 11 2019 03 34 pm 17136614828 page 1 1 sout...  Injection   \n",
       "219  #570 p 001 001 med spec clin southside kim 01 ...  Injection   \n",
       "220  1 11 2019 5 19 pm fax server +17136614828 p 1 ...  Injection   \n",
       "221  dermatology dermatologkc surgery & dermatopath...  Injection   \n",
       "222  1 11 2019 10 53 fax server fax southside organ...  Injection   \n",
       "223  jan 11 2019 02 45 pm 17136614828 page 1 1 sout...  Injection   \n",
       "224  jan 11 2019 02 46 pm 17136614828 page 1 1 sout...  Injection   \n",
       "225  unc | ov — 14 address ly {| 55 pen necdles ust...  Injection   \n",
       "226  athena 1 11 2019 8 09 20 pm page 1 002 confide...  Injection   \n",
       "227  jan 11 2019 03 04 pm 17136614828 page 1 1 sout...  Injection   \n",
       "228  jam 11i 2b19 12 46 lessee pes page 1d erdocrin...  Injection   \n",
       "229  jan 11 1901 09p gene devora md phd 9729813605 ...  Injection   \n",
       "230  1 11 2019 2 17 pm amr b arbs ees ene parr ry a...  Injection   \n",
       "231  f x s$ h e e date subject fax number company n...  Injection   \n",
       "232  al 11 2819 84 34pm 28135517711 ankh van mauyge...  Injection   \n",
       "233  ‘blf11 2619 11 12am 2813517711 anh van nguyen ...  Injection   \n",
       "234  jan 11 2019 03 06 pm 17136614828 page 1 1 sout...  Injection   \n",
       "235  jan 11 2079 11 56am \\ ae adele 6407 =p 1 2 «< ...  Injection   \n",
       "236  jan 11 2019 11 26am endocrine center gh 832218...  Injection   \n",
       "237  jan 11 2019 02 44 pm 17136614828 page 1 1 sout...  Injection   \n",
       "238  jan 11 2019 02 44 pm 17136614828 page 1 1 sout...  Injection   \n",
       "239  1172019 11 14 fas p o01 001 new e script presc...  Injection   \n",
       "240  01 11 2019 06 49pm 214491377 dscst page o1 12 ...  Injection   \n",
       "241  dermatology dermatologkc surgery & dermatopath...  Injection   \n",
       "242  jan 11 2019 03 27 pm 17136614828 page 1 1 sout...  Injection   \n",
       "243  jam 11 2019 2 74pm 3979 plt oe joseph c gathe ...  Injection   \n",
       "244  ov11f2019 =15 26 fax p oo1f005 wd bf 1 ei pru ...  Injection   \n",
       "245  pharmacy address 1127 bryn mawr ave ste redlan...  Injection   \n",
       "246  jan 11 2019 03 05 pm 17136614828 page 1 1 sout...  Injection   \n",
       "247  h1 11 2819 17 87 osvb%2 f115 dymamic arthritis...  Injection   \n",
       "248  09 07 2018 lab report hepatitis panel acute w ...  Injection   \n",
       "249  fondren orthopedic group llp main january 10 2...  Injection   \n",
       "250  1 11 2019 8 41 fax server +17136614828 p 1 sen...  Injection   \n",
       "251  fax server p3246 1 11 2019 12 37 17 pm page 1 ...  Injection   \n",
       "252  fax important notice january 11 2019 southside...  Injection   \n",
       "253  1 11 2019 1 33 pm fax southeast houston infect...  Injection   \n",
       "254  o1 11 19 03 75pm d0r nursing station 713474861...  Injection   \n",
       "255  jan 11 2019 02 47 pm 17136614828 page 1 1 sout...  Injection   \n",
       "256  1 11 2019 12 47 pm fax server +17136614828 p 3...  Injection   \n",
       "257  1 11 2019 8 41 fax server +17136614828 p 3 sen...  Injection   \n",
       "258  “<8 dermatology fax important notice january 1...  Injection   \n",
       "259  2019 01 10 21 16 8325485036 8325485036 » hside...  Injection   \n",
       "260  f x s$ h e e date jan 11 2019 11 26 51 southsi...  Injection   \n",
       "261  merase jan 11 2019 12 00pm ae ely [ hifaa auth...  Injection   \n",
       "262  jan 11 2019 02 45 pm 17136614828 page 1 1 sout...  Injection   \n",
       "263  01 11 2019 4 05 58 pm 0o500 faxcom fax iassist...  Injection   \n",
       "337  please cancel faxed prescription order referen...  Injection   \n",
       "338  hours pharmacy 1 800 951 0866 sat jan 12 03 33...  Injection   \n",
       "414  med spec clin southside fi11 2019 17 53 s70 p ...  Injection   \n",
       "427  01 11 2019 06 45 7133451228 southside pharmacy...  Injection   \n",
       "428  1 11 2019 12 13 pm fax magnolia family medicin...  Injection   \n",
       "429  01 54 41 p 01 11 2019 1 11 281 444 3417 co hep...  Injection   \n",
       "430  rmatology 20311 kuykendahl rd suite j phone 83...  Injection   \n",
       "\n",
       "                                         ProcessedText  \n",
       "215  p sent facsimil number phone date compani coll...  \n",
       "216  server p sent compani phone phone e mail date ...  \n",
       "217  server p sent new e script prescript by l pati...  \n",
       "218  page pharmaci fe fe h h sh oe ae us oe us lue ...  \n",
       "219  p spec kim sate f address harborsid p p box am...  \n",
       "220  server p sent infus compani phone phone e mail...  \n",
       "221  dermatolog surgeri dermatopatholog f caban spe...  \n",
       "222  server organ number phone number number p sent...  \n",
       "223  page pharmaci fe fe h h sh oe ae us oe us lue ...  \n",
       "224  page pharmaci fe fe h h sh oe ae us oe us lue ...  \n",
       "225  address ly pen ust box practition na barth tee...  \n",
       "226  page confidenti walnut hill phone specialti ph...  \n",
       "227  page pharmaci fe fe h h sh oe ae us oe us lue ...  \n",
       "228  jam i b lesse pe page d referr form ae darr g ...  \n",
       "229  p gene p allerg specialti form poe sere era mu...  \n",
       "230  b parr aw ra er server paar om x fa vee es naw...  \n",
       "231  f x s h e e date subject number compani name c...  \n",
       "232  al ankh van serv r pharmaci need test clinic p...  \n",
       "233  am van page last name first name start date q ...  \n",
       "234  page pharmaci fe fe h h sh oe ae us oe us lue ...  \n",
       "235  am ae p dimethyl fumar phone pee restat react ...  \n",
       "236  am endocrin center page specialti pharmaci int...  \n",
       "237  page pharmaci fe fe h h sh oe ae us oe us lue ...  \n",
       "238  page pharmaci fi new e script prescript ad p s...  \n",
       "239  p o new e script prescript abbasi suit ca pati...  \n",
       "240  page o receiv am server ean se specialti pharm...  \n",
       "241  dermatolog surgeri dermatopatholog specialti p...  \n",
       "242  page pharmaci fe fe h h sh oe ae us oe us lue ...  \n",
       "243  jam oe c phone lo es ree eer cee reel esker er...  \n",
       "244  p obe fe specialti pharmaci need steven attent...  \n",
       "245  pharmaci address ave ca complet form pleas com...  \n",
       "246  page pharmaci fe fe h h sh oe ae us oe us lue ...  \n",
       "247  h f arthriti page yan page pharmaci secret oe ...  \n",
       "248  lab report hepat panel acut w reflex comprehen...  \n",
       "249  orthoped group main main page offic visit lora...  \n",
       "250  server p sent specialti pharmaci one sourc med...  \n",
       "251  server p page server oper oak hill p ga am p d...  \n",
       "252  import notic specialti pharmaci intend use per...  \n",
       "253  southeast infecti diseas page o o f x s h e e ...  \n",
       "254  o nurs station f aa lad r ae oe se pharmaci st...  \n",
       "255  page pharmaci fe fe h h sh oe ae us oe us lue ...  \n",
       "256  server p sent new e script prescript p stein e...  \n",
       "257  server p sent new e script prescript holli j b...  \n",
       "258  dermatolog import notic specialti pharmaci int...  \n",
       "259  master p adult medicin male street smith old f...  \n",
       "260  f x s h e e date pharmaci subject approv numbe...  \n",
       "261  ae author share health inform read understand ...  \n",
       "262  page pharmaci fe fe h h sh oe ae us oe us lue ...  \n",
       "263  o compani voic date subject server secur docum...  \n",
       "337  pleas cancel prescript order refer facil cresc...  \n",
       "338  pharmaci sat page ref prescript order date tim...  \n",
       "414  spec fi s p sate f address harborsid p p box a...  \n",
       "427  pharmaci page dermatolog ca start date last na...  \n",
       "428  magnolia famili medicin page o f x h e e date ...  \n",
       "429  p hepatolog enrol form ey x f e z z h a baa sh...  \n",
       "430  suit j phone j urgent review pleas comment c p...  "
      ]
     },
     "execution_count": 61,
     "metadata": {},
     "output_type": "execute_result"
    }
   ],
   "source": [
    "data[data['FaxType'] == 'Injection']"
   ]
  },
  {
   "cell_type": "code",
   "execution_count": 62,
   "metadata": {
    "ExecuteTime": {
     "end_time": "2019-01-23T10:05:28.835827Z",
     "start_time": "2019-01-23T10:05:28.828845Z"
    },
    "scrolled": true
   },
   "outputs": [
    {
     "name": "stdout",
     "output_type": "stream",
     "text": [
      "p sent facsimil number phone date compani colleg medicin subject messag c thank send refil request get pleas hold decid need continu need switch imag c clinic assist center diseas prevent travi st suit f e w medicin sent subject messag c notic inform facsimil may contain confidenti inform may health inform defin feder health insur portabl account act privaci rule privaci use individu entiti cover sheet intend recipi herebi notifi disclosur dissemin distribut inform strictli may subject legal restrict sanction receiv facsimil error pleas notifi sender immedi telephon number list arrang return destruct inform p sent power p sent am page pharmaci err eker eker ere er author request refer g ree rea k eh pharmaci main street phone phone patient steven dob sex male circl sugar land phone pharmaci written quantiti fill quantiti left day suppli inject subcutan everi pleas review indic sign back pharmaci thank plu refil refil request confidenti inform transmiss pharmaci pharmacist send data legal inform transmiss s intend use individu facil recipi inform inform except permit current law govern privaci inform inform must state need unless otherwis law receiv transmiss error pleas notifi sender immedi return refer war \n"
     ]
    }
   ],
   "source": [
    "t_case = data['ProcessedText'][215]\n",
    "print(t_case)"
   ]
  },
  {
   "cell_type": "code",
   "execution_count": 76,
   "metadata": {
    "ExecuteTime": {
     "end_time": "2019-01-23T10:19:39.639210Z",
     "start_time": "2019-01-23T10:19:39.628983Z"
    }
   },
   "outputs": [
    {
     "name": "stdout",
     "output_type": "stream",
     "text": [
      "  (0, 64)\t0.041274014645028424\n",
      "  (0, 188)\t0.1291298127111653\n",
      "  (0, 296)\t0.07447951170705035\n",
      "  (0, 406)\t0.03221933559135732\n",
      "  (0, 445)\t0.04178508847489711\n",
      "  (0, 541)\t0.07326130874847989\n",
      "  (0, 618)\t0.06373012626131289\n",
      "  (0, 727)\t0.048278082572994006\n",
      "  (0, 755)\t0.06386355853186242\n",
      "  (0, 784)\t0.0884081956540403\n",
      "  (0, 785)\t0.06824137879810008\n",
      "  (0, 794)\t0.03146342230195861\n",
      "  (0, 926)\t0.12587711846639796\n",
      "  (0, 931)\t0.1489590234141007\n",
      "  (0, 1012)\t0.22102048913510075\n",
      "  (0, 1051)\t0.031188682467923095\n",
      "  (0, 1084)\t0.03878804708457463\n",
      "  (0, 1086)\t0.05076929274788121\n",
      "  (0, 1117)\t0.07579527113840588\n",
      "  (0, 1209)\t0.05107091987871742\n",
      "  (0, 1259)\t0.07152487017019568\n",
      "  (0, 1337)\t0.05370666722181623\n",
      "  (0, 1341)\t0.043043270903721766\n",
      "  (0, 1402)\t0.045453170686525136\n",
      "  (0, 1414)\t0.03438674958930767\n",
      "  :\t:\n",
      "  (110, 2437)\t0.08956916708754391\n",
      "  (110, 3049)\t0.051920753314937736\n",
      "  (110, 3232)\t0.08918791941955198\n",
      "  (110, 3254)\t0.05204973500867561\n",
      "  (110, 3281)\t0.08698487999148587\n",
      "  (110, 3291)\t0.10916607206761986\n",
      "  (110, 3379)\t0.2209087790556606\n",
      "  (110, 3440)\t0.07311406429476264\n",
      "  (110, 3497)\t0.07194437387588085\n",
      "  (110, 3565)\t0.18929440045032372\n",
      "  (110, 3785)\t0.05153667629248986\n",
      "  (110, 3863)\t0.08022328694617857\n",
      "  (110, 4005)\t0.11931808799051936\n",
      "  (110, 4394)\t0.18300383947017607\n",
      "  (110, 4448)\t0.10916607206761986\n",
      "  (110, 4551)\t0.2209087790556606\n",
      "  (110, 4593)\t0.19699342486384985\n",
      "  (110, 4645)\t0.12864379709191023\n",
      "  (110, 5158)\t0.07823493485602852\n",
      "  (110, 5308)\t0.14916271648022839\n",
      "  (110, 5687)\t0.16209060078541127\n",
      "  (110, 5753)\t0.2507986874858668\n",
      "  (110, 5798)\t0.12315565746129364\n",
      "  (110, 5868)\t0.13664154685976765\n",
      "  (110, 5876)\t0.13978030635885594\n",
      "362            Fly\n",
      "249      Injection\n",
      "271             IV\n",
      "436           Oral\n",
      "399           Oral\n",
      "413        Horizon\n",
      "12             Fly\n",
      "400           Oral\n",
      "198        General\n",
      "205        General\n",
      "78             Fly\n",
      "144            DME\n",
      "298           Oral\n",
      "171        General\n",
      "268             IV\n",
      "21           Order\n",
      "194        General\n",
      "1              Fly\n",
      "10             DVR\n",
      "208        General\n",
      "76             Fly\n",
      "37           Order\n",
      "389        Horizon\n",
      "412            Fly\n",
      "289             IV\n",
      "100          Audit\n",
      "261      Injection\n",
      "402            Fly\n",
      "319    Phy Billing\n",
      "206        General\n",
      "          ...     \n",
      "96           Order\n",
      "170        General\n",
      "113           Auth\n",
      "382        Horizon\n",
      "213        General\n",
      "134            DME\n",
      "49        HCARES18\n",
      "52        HCARES18\n",
      "74             Fly\n",
      "26           Order\n",
      "45        HCARES18\n",
      "390        Horizon\n",
      "154            EOB\n",
      "4             Thmp\n",
      "387        Horizon\n",
      "225      Injection\n",
      "327            Fly\n",
      "264             IV\n",
      "8              DVR\n",
      "190        General\n",
      "5              Fly\n",
      "371        Horizon\n",
      "200        General\n",
      "313           Oral\n",
      "7             Demo\n",
      "325            Ans\n",
      "366        Horizon\n",
      "22           Order\n",
      "68         General\n",
      "438           Oral\n",
      "Name: FaxType, Length: 111, dtype: object\n"
     ]
    }
   ],
   "source": [
    "print(X_test)\n",
    "print(y_test)"
   ]
  },
  {
   "cell_type": "code",
   "execution_count": null,
   "metadata": {},
   "outputs": [],
   "source": []
  },
  {
   "cell_type": "code",
   "execution_count": 80,
   "metadata": {
    "ExecuteTime": {
     "end_time": "2019-01-23T10:26:09.942865Z",
     "start_time": "2019-01-23T10:26:09.913505Z"
    }
   },
   "outputs": [
    {
     "data": {
      "text/plain": [
       "array(['Order'], dtype=object)"
      ]
     },
     "execution_count": 80,
     "metadata": {},
     "output_type": "execute_result"
    }
   ],
   "source": [
    "model.predict(X_test[2])"
   ]
  },
  {
   "cell_type": "code",
   "execution_count": null,
   "metadata": {},
   "outputs": [],
   "source": []
  }
 ],
 "metadata": {
  "kernelspec": {
   "display_name": "Python 3",
   "language": "python",
   "name": "python3"
  },
  "language_info": {
   "codemirror_mode": {
    "name": "ipython",
    "version": 3
   },
   "file_extension": ".py",
   "mimetype": "text/x-python",
   "name": "python",
   "nbconvert_exporter": "python",
   "pygments_lexer": "ipython3",
   "version": "3.6.7"
  }
 },
 "nbformat": 4,
 "nbformat_minor": 2
}

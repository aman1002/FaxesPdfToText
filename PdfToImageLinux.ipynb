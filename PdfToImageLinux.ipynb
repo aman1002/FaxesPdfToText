{
 "cells": [
  {
   "cell_type": "code",
   "execution_count": 11,
   "metadata": {
    "ExecuteTime": {
     "end_time": "2019-01-30T10:48:10.024098Z",
     "start_time": "2019-01-30T10:48:10.020707Z"
    }
   },
   "outputs": [],
   "source": [
    "from __future__ import print_function\n",
    "import os,sys"
   ]
  },
  {
   "cell_type": "code",
   "execution_count": 12,
   "metadata": {
    "ExecuteTime": {
     "end_time": "2019-01-30T10:48:10.401240Z",
     "start_time": "2019-01-30T10:48:10.375961Z"
    }
   },
   "outputs": [],
   "source": [
    "path1= '/home/aman/Work/WORK/SSRX/NewProject/Faxes1/Daily/'\n",
    " \n",
    "if len(sys.argv) == 2:\n",
    "    path1= sys.argv[1]\n",
    "    \n",
    "pharmacy = []\n",
    "files = os.listdir(path1)\n",
    "for name in files:\n",
    "    pharmacy.append(name)"
   ]
  },
  {
   "cell_type": "code",
   "execution_count": 13,
   "metadata": {
    "ExecuteTime": {
     "end_time": "2019-01-30T10:48:10.847924Z",
     "start_time": "2019-01-30T10:48:10.843034Z"
    }
   },
   "outputs": [
    {
     "name": "stdout",
     "output_type": "stream",
     "text": [
      "['RC', 'FinalOutput.xlsx', 'Rayos-Hub', 'SSP10', 'SSP8', 'Winnetka', 'SSP9', 'SSD', 'SSP4', 'SSP2', 'Citywide', 'SSP', 'Astoria', 'RC3', 'FaxBackup (SSRX-RIGHTFAX01).lnk']\n",
      "['RC', 'FinalOutput.xlsx', 'Rayos-Hub', 'SSP10', 'SSP8', 'Winnetka', 'SSP9', 'SSD', 'SSP4', 'SSP2', 'Citywide', 'SSP', 'Astoria', 'RC3']\n"
     ]
    }
   ],
   "source": [
    "print(pharmacy)\n",
    "pharmacy = pharmacy[0:-1]\n",
    "print(pharmacy)"
   ]
  },
  {
   "cell_type": "code",
   "execution_count": 14,
   "metadata": {
    "ExecuteTime": {
     "end_time": "2019-01-30T10:48:12.273945Z",
     "start_time": "2019-01-30T10:48:11.997606Z"
    }
   },
   "outputs": [],
   "source": [
    "direc = []\n",
    "for i in range(len(pharmacy)):\n",
    "    path2= '/home/aman/Work/WORK/SSRX/NewProject/Faxes1/Daily/' + pharmacy[i] + '/01112019/'\n",
    "    path3= '/home/aman/Work/WORK/SSRX/NewProject/Faxes1/Daily/' + pharmacy[i] + '/01122019/'\n",
    "    \n",
    "    if len(sys.argv) == 2:\n",
    "        path = sys.argv[1]\n",
    "\n",
    "\n",
    "    try:\n",
    "        files11 = os.listdir(path2)\n",
    "        for name in files11:\n",
    "            ftype = []\n",
    "            ftype.append(path2 + name + '/')\n",
    "            ftype.append(name)\n",
    "            direc.append(ftype)\n",
    "            ftype = []\n",
    "    except:\n",
    "        pass\n",
    "\n",
    "    try:\n",
    "        files12 = os.listdir(path3)\n",
    "        for name in files12:\n",
    "            ftype = []\n",
    "            ftype.append(path3 + name + '/')\n",
    "            ftype.append(name)\n",
    "            direc.append(ftype)\n",
    "            ftype = []\n",
    "    except:\n",
    "        pass"
   ]
  },
  {
   "cell_type": "code",
   "execution_count": 15,
   "metadata": {
    "ExecuteTime": {
     "end_time": "2019-01-30T10:48:16.697930Z",
     "start_time": "2019-01-30T10:48:16.673886Z"
    }
   },
   "outputs": [],
   "source": [
    "paths = []\n",
    "\n",
    "for i in range(len(direc)):\n",
    "    p = direc[i][0]\n",
    "    \n",
    "    if len(sys.argv) == 2:\n",
    "        p = sys.argv[1]\n",
    "\n",
    "\n",
    "    try:\n",
    "        files = os.listdir(p)\n",
    "        for name in files:\n",
    "            temp = []\n",
    "            temp.append(p + name)\n",
    "            temp.append(direc[i][1])\n",
    "            paths.append(temp)\n",
    "            temp = []\n",
    "    except:\n",
    "        pass"
   ]
  },
  {
   "cell_type": "code",
   "execution_count": 16,
   "metadata": {
    "ExecuteTime": {
     "end_time": "2019-01-30T10:48:17.120152Z",
     "start_time": "2019-01-30T10:48:17.116240Z"
    }
   },
   "outputs": [],
   "source": [
    "import cv2\n",
    "from pdf2image import convert_from_path"
   ]
  },
  {
   "cell_type": "code",
   "execution_count": 17,
   "metadata": {
    "ExecuteTime": {
     "end_time": "2019-01-30T10:48:17.472397Z",
     "start_time": "2019-01-30T10:48:17.469765Z"
    }
   },
   "outputs": [],
   "source": [
    "# x = \"/\".join(paths[0][0].split(\"/\")[0:-1])\n",
    "# os.mkdir(x+\"/test\")"
   ]
  },
  {
   "cell_type": "code",
   "execution_count": 18,
   "metadata": {
    "ExecuteTime": {
     "end_time": "2019-01-30T10:48:17.989829Z",
     "start_time": "2019-01-30T10:48:17.985456Z"
    }
   },
   "outputs": [],
   "source": [
    "# print(x)"
   ]
  },
  {
   "cell_type": "code",
   "execution_count": 19,
   "metadata": {
    "ExecuteTime": {
     "end_time": "2019-01-30T10:48:18.844236Z",
     "start_time": "2019-01-30T10:48:18.837829Z"
    }
   },
   "outputs": [],
   "source": [
    "# def convert(path):\n",
    "#     l = []\n",
    "#     pages = convert_from_path(path, 500)\n",
    "#     for i in range(len(pages)):\n",
    "#         pages[i].save('output1.jpg', 'JPEG')\n",
    "#         try:\n",
    "#             text = pytesseract.image_to_string(Image.open('output1.jpg'))\n",
    "#             l.append(text)\n",
    "#         except:\n",
    "#             pass\n",
    "#     return l\n",
    "\n",
    "def addfolder(path):\n",
    "    folder = path.split(\"/\")[-1].split(\".\")[0]\n",
    "    destination_path = \"/\".join(path.split(\"/\")[0:-1])\n",
    "    p = destination_path + \"/\" + folder\n",
    "    os.mkdir(p)\n",
    "    pages = convert_from_path(path, 500)\n",
    "#     print(len(pages))\n",
    "    for i in range(len(pages)):\n",
    "        pages[i].save(p+\"/\"+\"page\"+str(i)+\".jpg\", \"JPEG\")\n",
    "    print(p)"
   ]
  },
  {
   "cell_type": "code",
   "execution_count": null,
   "metadata": {
    "ExecuteTime": {
     "start_time": "2019-01-30T10:48:27.203Z"
    }
   },
   "outputs": [
    {
     "name": "stdout",
     "output_type": "stream",
     "text": [
      "/home/aman/Work/WORK/SSRX/NewProject/Faxes1/Daily/RC/01112019/General/GENERAL - GUERRERO JONATHAN COPAY DENIED\n",
      "/home/aman/Work/WORK/SSRX/NewProject/Faxes1/Daily/RC/01112019/General/GENERAL - CASTRO DANIEL COPAY APPOVAL\n",
      "/home/aman/Work/WORK/SSRX/NewProject/Faxes1/Daily/RC/01112019/General/GENERAL - VALDES CARLOS COPAY DENIED\n",
      "/home/aman/Work/WORK/SSRX/NewProject/Faxes1/Daily/RC/01112019/General/GENERAL - APARICIO CHRISTOPHER COPAY DENIED\n",
      "/home/aman/Work/WORK/SSRX/NewProject/Faxes1/Daily/RC/01112019/General/GENERAL - CANTU JAZIAH COPAY APPROVAL\n",
      "/home/aman/Work/WORK/SSRX/NewProject/Faxes1/Daily/RC/01112019/General/GENERAL - MARQUIZ JOSECOPAY DENIED\n",
      "/home/aman/Work/WORK/SSRX/NewProject/Faxes1/Daily/RC/01112019/General/GENERAL - GLASGOW ROGER COPAY APPROVAL\n",
      "/home/aman/Work/WORK/SSRX/NewProject/Faxes1/Daily/RC/01112019/General/GENERAL - CREDIT CARD AUTH FORM\n",
      "/home/aman/Work/WORK/SSRX/NewProject/Faxes1/Daily/RC/01112019/General/GENERAL - MARTINEZ ERVEY COPAY DENIED\n",
      "/home/aman/Work/WORK/SSRX/NewProject/Faxes1/Daily/RC/01112019/General/GENERAL - BROWN BILLY COPAY APPROVAL\n",
      "/home/aman/Work/WORK/SSRX/NewProject/Faxes1/Daily/RC/01112019/General/GENERAL - MCCOMB PETER COPAY APPROVAL\n",
      "/home/aman/Work/WORK/SSRX/NewProject/Faxes1/Daily/RC/01112019/Fly/FLY - PRIME\n",
      "/home/aman/Work/WORK/SSRX/NewProject/Faxes1/Daily/RC/01112019/Fly/FLY - MCKESSON\n",
      "/home/aman/Work/WORK/SSRX/NewProject/Faxes1/Daily/RC/01112019/Audit/AUDIT - OPTUM RX PRESCRIPTION VALIDATION REQUEST FOR RC PHARMACY\n",
      "/home/aman/Work/WORK/SSRX/NewProject/Faxes1/Daily/RC/01112019/Audit/AUDIT - OPTUM RX PRESCRIPTION VALIDATION REQST RC PHARMACY\n",
      "/home/aman/Work/WORK/SSRX/NewProject/Faxes1/Daily/RC/01122019/Fly/FLY - CVS CAREMARK PHARMACY UPDATE000180F4\n",
      "/home/aman/Work/WORK/SSRX/NewProject/Faxes1/Daily/RC/01122019/Fly/FLY - CVS CAREMARK PHARMACY UPDATE-ENVOLVE00018103\n",
      "/home/aman/Work/WORK/SSRX/NewProject/Faxes1/Daily/Rayos-Hub/01112019/Oral/ORAL - SHIELDS WALTER\n",
      "/home/aman/Work/WORK/SSRX/NewProject/Faxes1/Daily/Rayos-Hub/01112019/Fly/FLY - PRIME THERAPEUTICS\n",
      "/home/aman/Work/WORK/SSRX/NewProject/Faxes1/Daily/Rayos-Hub/01112019/HCARES18/HCARES18 - TURNER MARTIN\n",
      "/home/aman/Work/WORK/SSRX/NewProject/Faxes1/Daily/Rayos-Hub/01112019/HCARES18/HCARES18 - PURTELL GINA\n",
      "/home/aman/Work/WORK/SSRX/NewProject/Faxes1/Daily/Rayos-Hub/01112019/HCARES18/HCARES18 - HATHAWAY CONSTANCE\n",
      "/home/aman/Work/WORK/SSRX/NewProject/Faxes1/Daily/Rayos-Hub/01112019/HCARES18/HCARES18 - TOSSENG LAURA\n",
      "/home/aman/Work/WORK/SSRX/NewProject/Faxes1/Daily/Rayos-Hub/01112019/HCARES18/HCARES18 - COOK ADAM\n",
      "/home/aman/Work/WORK/SSRX/NewProject/Faxes1/Daily/Rayos-Hub/01112019/HCARES18/HCARES18 - CHIVUKULA GOWRI\n",
      "/home/aman/Work/WORK/SSRX/NewProject/Faxes1/Daily/Rayos-Hub/01112019/HCARES18/HCARES18 - HOUSTON KAREN\n",
      "/home/aman/Work/WORK/SSRX/NewProject/Faxes1/Daily/Rayos-Hub/01112019/HCARES18/HCARES18 - INGLE STARR\n",
      "/home/aman/Work/WORK/SSRX/NewProject/Faxes1/Daily/Rayos-Hub/01112019/HCARES18/HCARES18 - MILAN MATTHEW\n",
      "/home/aman/Work/WORK/SSRX/NewProject/Faxes1/Daily/Rayos-Hub/01112019/HCARES18/HCARES18 - SHARP SIMIA\n",
      "/home/aman/Work/WORK/SSRX/NewProject/Faxes1/Daily/Rayos-Hub/01112019/HCARES18/HCARES18 - LOPEZ BRENDA LUNA\n",
      "/home/aman/Work/WORK/SSRX/NewProject/Faxes1/Daily/SSP10/01112019/General/GENERAL - VANDEVENDER DAVID SAVINGNOTE\n",
      "/home/aman/Work/WORK/SSRX/NewProject/Faxes1/Daily/SSP10/01112019/General/GENERAL - MCCLONEY CHRISTOPHER SAVING NOTE\n",
      "/home/aman/Work/WORK/SSRX/NewProject/Faxes1/Daily/SSP10/01112019/General/GENERAL - MONTES MARCUS SAVING NOTE\n",
      "/home/aman/Work/WORK/SSRX/NewProject/Faxes1/Daily/SSP10/01112019/General/GENERAL - ARANZA ALEXANDER SAVING NOTE\n",
      "/home/aman/Work/WORK/SSRX/NewProject/Faxes1/Daily/SSP10/01112019/Oral/ORAL - AUSTILL EMILY\n",
      "/home/aman/Work/WORK/SSRX/NewProject/Faxes1/Daily/SSP10/01112019/Oral/ORAL - HAMILTON BRITTANY\n",
      "/home/aman/Work/WORK/SSRX/NewProject/Faxes1/Daily/SSP10/01112019/Horizon/HORIZON - CAGLE MOLLY\n",
      "/home/aman/Work/WORK/SSRX/NewProject/Faxes1/Daily/SSP10/01112019/Horizon/HORIZON - FREEMAN DAVID\n",
      "/home/aman/Work/WORK/SSRX/NewProject/Faxes1/Daily/SSP10/01112019/Horizon/HORIZON - SANGCO ANGELA\n",
      "/home/aman/Work/WORK/SSRX/NewProject/Faxes1/Daily/SSP10/01112019/Horizon/HORIZON - JONES CECIL\n",
      "/home/aman/Work/WORK/SSRX/NewProject/Faxes1/Daily/SSP10/01112019/Horizon/HORIZON - CAYLOR SHARON\n",
      "/home/aman/Work/WORK/SSRX/NewProject/Faxes1/Daily/SSP10/01112019/Horizon/HORIZON - WRIGHT KAREN\n",
      "/home/aman/Work/WORK/SSRX/NewProject/Faxes1/Daily/SSP10/01112019/Horizon/HORIZON - MCCLONEY CHRISTOPHER\n",
      "/home/aman/Work/WORK/SSRX/NewProject/Faxes1/Daily/SSP10/01112019/Fly/FLY - MCKESSON\n",
      "/home/aman/Work/WORK/SSRX/NewProject/Faxes1/Daily/SSP10/01112019/Fly/FLY -PRIME THERAPEUTICS\n",
      "/home/aman/Work/WORK/SSRX/NewProject/Faxes1/Daily/SSP10/01112019/Fly/FLY - CVS CAREMARK\n",
      "/home/aman/Work/WORK/SSRX/NewProject/Faxes1/Daily/SSP10/01112019/Audit/AUDIT - NAVITUS PHARMACY CLAIMS AUDIT SSP 10\n",
      "/home/aman/Work/WORK/SSRX/NewProject/Faxes1/Daily/SSP10/01122019/Fly/FLY - CVS CAREMARK PHARMACY UPDATE-ENVOLVE\n",
      "/home/aman/Work/WORK/SSRX/NewProject/Faxes1/Daily/SSP10/01122019/Fly/FLY - CVS CAREMARK PHARMACY UPDATE\n",
      "/home/aman/Work/WORK/SSRX/NewProject/Faxes1/Daily/SSP8/01112019/Horizon/HORIZON - DELEON DALIA\n",
      "/home/aman/Work/WORK/SSRX/NewProject/Faxes1/Daily/SSP8/01112019/Fly/FLY - CVS CAREMARK UPDATE\n",
      "/home/aman/Work/WORK/SSRX/NewProject/Faxes1/Daily/SSP8/01112019/Fly/FLY - CVS CAREMARK PHARMACY UPDATE\n",
      "/home/aman/Work/WORK/SSRX/NewProject/Faxes1/Daily/SSP8/01112019/Fly/FLY -PRIME THERAPEUTIC\n",
      "/home/aman/Work/WORK/SSRX/NewProject/Faxes1/Daily/SSP8/01112019/Fly/FLY - MATCH RX\n",
      "/home/aman/Work/WORK/SSRX/NewProject/Faxes1/Daily/SSP8/01112019/Fly/FLY - MCKESSON\n",
      "/home/aman/Work/WORK/SSRX/NewProject/Faxes1/Daily/SSP8/01112019/Thmp/THMP - THMP\n",
      "/home/aman/Work/WORK/SSRX/NewProject/Faxes1/Daily/SSP8/01112019/Injection/INJECTION - BENSON ELISA DENIED\n",
      "/home/aman/Work/WORK/SSRX/NewProject/Faxes1/Daily/SSP8/01122019/Fly/FLY - CVS CAREMARK PHARMACY UPDATE-ENVOLVE\n",
      "/home/aman/Work/WORK/SSRX/NewProject/Faxes1/Daily/SSP8/01122019/Fly/FLY - CVS CAREMARK PHARMACY UPDATE-1\n",
      "/home/aman/Work/WORK/SSRX/NewProject/Faxes1/Daily/Winnetka/01112019/General/GENERAL - ZEREYHOUNE RIEHL MARIE SAVING NOTE\n",
      "/home/aman/Work/WORK/SSRX/NewProject/Faxes1/Daily/Winnetka/01112019/General/GENERAL - OLIVAS RENE PA REQUEST\n",
      "/home/aman/Work/WORK/SSRX/NewProject/Faxes1/Daily/Winnetka/01112019/General/GENERAL - ORLOWSKI ALTARA SAVING NOTE\n",
      "/home/aman/Work/WORK/SSRX/NewProject/Faxes1/Daily/Winnetka/01112019/General/GENERAL - KENNEDY TIMOTHY SAVING NOTE\n",
      "/home/aman/Work/WORK/SSRX/NewProject/Faxes1/Daily/Winnetka/01112019/General/GENERAL - ZINN KATHRYN SAVING NOTE\n",
      "/home/aman/Work/WORK/SSRX/NewProject/Faxes1/Daily/Winnetka/01112019/General/GENERAL - FORTUNE KASSIDY SAVING NOTE\n",
      "/home/aman/Work/WORK/SSRX/NewProject/Faxes1/Daily/Winnetka/01112019/General/GENERAL - MARKS PEGGYE SAVING NOTE\n",
      "/home/aman/Work/WORK/SSRX/NewProject/Faxes1/Daily/Winnetka/01112019/General/GENERAL - EDMONDS DANIELLE SAVING NOTE\n",
      "/home/aman/Work/WORK/SSRX/NewProject/Faxes1/Daily/Winnetka/01112019/General/GENERAL -KELSON JANET SAVING NOTE\n",
      "/home/aman/Work/WORK/SSRX/NewProject/Faxes1/Daily/Winnetka/01112019/General/GENERAL - VACCARELLO ANTHONY SAVING NOTE\n",
      "/home/aman/Work/WORK/SSRX/NewProject/Faxes1/Daily/Winnetka/01112019/General/GENERAL - HARDT JULIE SAVING NOTE\n",
      "/home/aman/Work/WORK/SSRX/NewProject/Faxes1/Daily/Winnetka/01112019/General/GENERAL -  MOORE SCOTT EVOUCHER PATIENT SAVING NOTIFICATION\n",
      "/home/aman/Work/WORK/SSRX/NewProject/Faxes1/Daily/Winnetka/01112019/General/GENERAL - KEMP AARON SAVING NOTE\n",
      "/home/aman/Work/WORK/SSRX/NewProject/Faxes1/Daily/Winnetka/01112019/General/GENERAL - CROPPER ADAM SAVING NOTE\n",
      "/home/aman/Work/WORK/SSRX/NewProject/Faxes1/Daily/Winnetka/01112019/General/GENERAL- SERA EDUARDO SAVING NOTE\n",
      "/home/aman/Work/WORK/SSRX/NewProject/Faxes1/Daily/Winnetka/01112019/General/GENERAL - FELT LORI SAVING NOTE\n",
      "/home/aman/Work/WORK/SSRX/NewProject/Faxes1/Daily/Winnetka/01112019/General/GENERAL - MAZAHERI RASUL SAVING NOTE\n",
      "/home/aman/Work/WORK/SSRX/NewProject/Faxes1/Daily/Winnetka/01112019/General/GENERAL -  KASIMIAN SUZANNE EVOUCHER PATIENT SAVING NOTIFICATION\n",
      "/home/aman/Work/WORK/SSRX/NewProject/Faxes1/Daily/Winnetka/01112019/General/GENERAL - LUTE STEVEN SAVING NOTE\n"
     ]
    },
    {
     "name": "stdout",
     "output_type": "stream",
     "text": [
      "/home/aman/Work/WORK/SSRX/NewProject/Faxes1/Daily/Winnetka/01112019/General/GENERAL - SHIMONI SARA SAVING  NOTE\n",
      "/home/aman/Work/WORK/SSRX/NewProject/Faxes1/Daily/Winnetka/01112019/General/GENERAL - SIDDIQUI NASREEN SAVING NOTE\n",
      "/home/aman/Work/WORK/SSRX/NewProject/Faxes1/Daily/Winnetka/01112019/General/GENERAL - LOSSOW, THERESE PN\n",
      "/home/aman/Work/WORK/SSRX/NewProject/Faxes1/Daily/Winnetka/01112019/General/GENERAL - MARRA CARMEN MR\n",
      "/home/aman/Work/WORK/SSRX/NewProject/Faxes1/Daily/Winnetka/01112019/Oral/ORAL - WILLIAMS ARLENE\n",
      "/home/aman/Work/WORK/SSRX/NewProject/Faxes1/Daily/Winnetka/01112019/Oral/ORAL - GOMEZ RUTH\n"
     ]
    }
   ],
   "source": [
    "for i in range(len(paths)):\n",
    "    addfolder(paths[i][0])"
   ]
  },
  {
   "cell_type": "code",
   "execution_count": null,
   "metadata": {},
   "outputs": [],
   "source": []
  }
 ],
 "metadata": {
  "kernelspec": {
   "display_name": "Python 3",
   "language": "python",
   "name": "python3"
  },
  "language_info": {
   "codemirror_mode": {
    "name": "ipython",
    "version": 3
   },
   "file_extension": ".py",
   "mimetype": "text/x-python",
   "name": "python",
   "nbconvert_exporter": "python",
   "pygments_lexer": "ipython3",
   "version": "3.6.7"
  }
 },
 "nbformat": 4,
 "nbformat_minor": 2
}

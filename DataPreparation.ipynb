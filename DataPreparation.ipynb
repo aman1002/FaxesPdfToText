{
 "cells": [
  {
   "cell_type": "code",
   "execution_count": 1,
   "metadata": {
    "ExecuteTime": {
     "end_time": "2019-01-23T08:18:44.642590Z",
     "start_time": "2019-01-23T08:18:29.548270Z"
    }
   },
   "outputs": [],
   "source": [
    "from PIL import Image\n",
    "import pytesseract\n",
    "import cv2\n",
    "from pdf2image import convert_from_path\n",
    "import re\n",
    "import nltk\n",
    "from nltk.corpus import stopwords\n",
    "import warnings\n",
    "warnings.filterwarnings(\"ignore\")\n",
    "stop_words = set(stopwords.words('english'))"
   ]
  },
  {
   "cell_type": "code",
   "execution_count": 19,
   "metadata": {
    "ExecuteTime": {
     "end_time": "2019-01-23T08:22:37.184820Z",
     "start_time": "2019-01-23T08:22:37.167061Z"
    }
   },
   "outputs": [],
   "source": [
    "def preprocess(inp):\n",
    "    mention = '(?<=^|(?<=[^a-zA-Z0-9-_\\.]))@([A-Za-z-_\\.]+[A-Za-z0-9])|(?<=^|(?<=[^a-zA-Z0-9-_\\.])) @([A-Za-z-_\\.]+[A-Za-z0-9])|(?<=^|(?<=[^a-zA-Z0-9-_\\.])).@([A-Za-z-_\\.]+[A-Za-z0-9])'\n",
    "    punc = [\".\", \"?\", \",\", \"!\", \"/\", \"-\", \":\", \";\", \"(\", \")\", \"_\"]\n",
    "    s = inp\n",
    "    s = re.sub(mention, \"\", s)\n",
    "    s = re.sub('>', '', s)\n",
    "    s = re.sub('\\t', '', s)\n",
    "    s = re.sub('\\n', ' ', s)\n",
    "    for item in punc:\n",
    "        s = s.split(item)\n",
    "        s = \" \".join(s)\n",
    "    \n",
    "    x = \"\"\n",
    "    #text is split into words and converted into lowercase\n",
    "    words = s.lower().split()\n",
    "    \n",
    "    for word in words:\n",
    "        # stop-word removal\n",
    "        if not word in stop_words:\n",
    "            x += word + \" \"\n",
    "        \n",
    "    inp = x\n",
    "    return inp\n",
    "\n",
    "def convert(path):\n",
    "    l = []\n",
    "    pages = convert_from_path(path, 500)\n",
    "    for i in range(len(pages)):\n",
    "        pages[i].save('output1.jpg', 'JPEG')\n",
    "        try:\n",
    "            text = pytesseract.image_to_string(Image.open('output1.jpg'))\n",
    "            l.append(text)\n",
    "        except:\n",
    "            pass\n",
    "    return l"
   ]
  },
  {
   "cell_type": "code",
   "execution_count": 4,
   "metadata": {
    "ExecuteTime": {
     "end_time": "2019-01-23T08:19:45.048867Z",
     "start_time": "2019-01-23T08:19:45.024468Z"
    }
   },
   "outputs": [],
   "source": [
    "from __future__ import print_function\n",
    "import os,sys\n",
    " \n",
    "path1= '/home/aman/Work/WORK/SSRX/NewProject/Faxes/Daily/'\n",
    " \n",
    "if len(sys.argv) == 2:\n",
    "    path1= sys.argv[1]\n",
    "    \n",
    "pharmacy = []\n",
    "files = os.listdir(path1)\n",
    "for name in files:\n",
    "    pharmacy.append(name)"
   ]
  },
  {
   "cell_type": "code",
   "execution_count": 5,
   "metadata": {
    "ExecuteTime": {
     "end_time": "2019-01-23T08:19:45.499551Z",
     "start_time": "2019-01-23T08:19:45.491780Z"
    }
   },
   "outputs": [
    {
     "name": "stdout",
     "output_type": "stream",
     "text": [
      "['RC', 'FinalOutput.xlsx', 'Rayos-Hub', 'SSP10', 'SSP8', 'Winnetka', 'SSP9', 'SSD', 'SSP4', 'SSP2', 'Citywide', 'SSP', 'Astoria', 'RC3']\n"
     ]
    }
   ],
   "source": [
    "pharmacy = pharmacy[0:-1]\n",
    "print(pharmacy)"
   ]
  },
  {
   "cell_type": "code",
   "execution_count": 6,
   "metadata": {
    "ExecuteTime": {
     "end_time": "2019-01-23T08:19:46.264011Z",
     "start_time": "2019-01-23T08:19:46.257433Z"
    }
   },
   "outputs": [],
   "source": [
    "phar = {}\n",
    "for i in range(len(pharmacy)):\n",
    "    phar[pharmacy[i]] = []"
   ]
  },
  {
   "cell_type": "code",
   "execution_count": 7,
   "metadata": {
    "ExecuteTime": {
     "end_time": "2019-01-23T08:19:49.951134Z",
     "start_time": "2019-01-23T08:19:49.947220Z"
    }
   },
   "outputs": [
    {
     "name": "stdout",
     "output_type": "stream",
     "text": [
      "{'RC': [], 'FinalOutput.xlsx': [], 'Rayos-Hub': [], 'SSP10': [], 'SSP8': [], 'Winnetka': [], 'SSP9': [], 'SSD': [], 'SSP4': [], 'SSP2': [], 'Citywide': [], 'SSP': [], 'Astoria': [], 'RC3': []}\n"
     ]
    }
   ],
   "source": [
    "print(phar)"
   ]
  },
  {
   "cell_type": "code",
   "execution_count": 8,
   "metadata": {
    "ExecuteTime": {
     "end_time": "2019-01-23T08:19:51.381866Z",
     "start_time": "2019-01-23T08:19:50.846870Z"
    }
   },
   "outputs": [],
   "source": [
    "direc = []\n",
    "for i in range(len(pharmacy)):\n",
    "    path2= '/home/aman/Work/WORK/SSRX/NewProject/Faxes/Daily/' + pharmacy[i] + '/01112019/'\n",
    "    path3= '/home/aman/Work/WORK/SSRX/NewProject/Faxes/Daily/' + pharmacy[i] + '/01122019/'\n",
    "    \n",
    "    if len(sys.argv) == 2:\n",
    "        path = sys.argv[1]\n",
    "\n",
    "\n",
    "    try:\n",
    "        files11 = os.listdir(path2)\n",
    "        for name in files11:\n",
    "            ftype = []\n",
    "            ftype.append(path2 + name + '/')\n",
    "            ftype.append(name)\n",
    "            direc.append(ftype)\n",
    "            ftype = []\n",
    "    except:\n",
    "        pass\n",
    "\n",
    "    try:\n",
    "        files12 = os.listdir(path3)\n",
    "        for name in files12:\n",
    "            ftype = []\n",
    "            ftype.append(path3 + name + '/')\n",
    "            ftype.append(name)\n",
    "            direc.append(ftype)\n",
    "            ftype = []\n",
    "    except:\n",
    "        pass"
   ]
  },
  {
   "cell_type": "code",
   "execution_count": 9,
   "metadata": {
    "ExecuteTime": {
     "end_time": "2019-01-23T08:19:51.842843Z",
     "start_time": "2019-01-23T08:19:51.550327Z"
    }
   },
   "outputs": [],
   "source": [
    "paths = []\n",
    "\n",
    "for i in range(len(direc)):\n",
    "    p = direc[i][0]\n",
    "    \n",
    "    if len(sys.argv) == 2:\n",
    "        p = sys.argv[1]\n",
    "\n",
    "\n",
    "    try:\n",
    "        files = os.listdir(p)\n",
    "        for name in files:\n",
    "            temp = []\n",
    "            temp.append(p + name)\n",
    "            temp.append(direc[i][1])\n",
    "            paths.append(temp)\n",
    "            temp = []\n",
    "    except:\n",
    "        pass"
   ]
  },
  {
   "cell_type": "code",
   "execution_count": 10,
   "metadata": {
    "ExecuteTime": {
     "end_time": "2019-01-23T08:19:55.271408Z",
     "start_time": "2019-01-23T08:19:55.267790Z"
    }
   },
   "outputs": [
    {
     "name": "stdout",
     "output_type": "stream",
     "text": [
      "539\n"
     ]
    }
   ],
   "source": [
    "print(len(paths))"
   ]
  },
  {
   "cell_type": "code",
   "execution_count": 20,
   "metadata": {
    "ExecuteTime": {
     "end_time": "2019-01-23T08:22:42.513861Z",
     "start_time": "2019-01-23T08:22:42.506038Z"
    }
   },
   "outputs": [],
   "source": [
    "Text = []\n",
    "FaxLabel = []\n",
    "\n",
    "def textify(p):\n",
    "    path = p[0]\n",
    "    label = p[1]\n",
    "    cnvrt = convert(path)\n",
    "    text = \"\"\n",
    "    for i in range(len(cnvrt)):\n",
    "        text = text + cnvrt[i] + \" \"\n",
    "\n",
    "    text = preprocess(text)\n",
    "    Text.append(text)\n",
    "    FaxLabel.append(p[1])"
   ]
  },
  {
   "cell_type": "code",
   "execution_count": 21,
   "metadata": {
    "ExecuteTime": {
     "end_time": "2019-01-23T08:22:45.430993Z",
     "start_time": "2019-01-23T08:22:42.708256Z"
    }
   },
   "outputs": [
    {
     "name": "stdout",
     "output_type": "stream",
     "text": [
      "['General'] ['']\n"
     ]
    }
   ],
   "source": [
    "textify(paths[4])\n",
    "print(FaxLabel, Text)"
   ]
  },
  {
   "cell_type": "code",
   "execution_count": null,
   "metadata": {},
   "outputs": [],
   "source": [
    "for i in range(100):\n",
    "    textify(paths[i])"
   ]
  },
  {
   "cell_type": "code",
   "execution_count": 12,
   "metadata": {},
   "outputs": [
    {
     "data": {
      "text/plain": [
       "10"
      ]
     },
     "execution_count": 12,
     "metadata": {},
     "output_type": "execute_result"
    }
   ],
   "source": [
    "len(Text)"
   ]
  },
  {
   "cell_type": "code",
   "execution_count": 13,
   "metadata": {},
   "outputs": [],
   "source": [
    "import pandas as pd"
   ]
  },
  {
   "cell_type": "code",
   "execution_count": 14,
   "metadata": {},
   "outputs": [],
   "source": [
    "df = pd.DataFrame({'Text': Text, 'FaxType': FaxLabel})"
   ]
  }
 ],
 "metadata": {
  "kernelspec": {
   "display_name": "Python 3",
   "language": "python",
   "name": "python3"
  },
  "language_info": {
   "codemirror_mode": {
    "name": "ipython",
    "version": 3
   },
   "file_extension": ".py",
   "mimetype": "text/x-python",
   "name": "python",
   "nbconvert_exporter": "python",
   "pygments_lexer": "ipython3",
   "version": "3.6.7"
  }
 },
 "nbformat": 4,
 "nbformat_minor": 2
}
